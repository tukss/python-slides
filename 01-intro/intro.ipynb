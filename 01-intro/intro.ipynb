{
 "cells": [
  {
   "cell_type": "code",
   "execution_count": null,
   "metadata": {
    "collapsed": false,
    "slideshow": {
     "slide_type": "skip"
    }
   },
   "outputs": [],
   "source": [
    "%pylab inline\n",
    "%config InlineBackend.figure_formats = ['svg']"
   ]
  },
  {
   "cell_type": "markdown",
   "metadata": {
    "slideshow": {
     "slide_type": "slide"
    }
   },
   "source": [
    "# A Brief Overview of Python"
   ]
  },
  {
   "cell_type": "markdown",
   "metadata": {
    "slideshow": {
     "slide_type": "slide"
    }
   },
   "source": [
    "## Python …\n",
    "\n",
    "- general-purpose programming language\n",
    "- extremely portable\n",
    "- interpreted (i.e. no compilation stage)\n",
    "- supports multiple paradigms: object-oriented, structured, …\n",
    "- dynamic and strong typing\n",
    "- free software\n",
    "- huge selection of free extensions (including many scientific packages)\n",
    "- can be used for high-level scripting of numerical  codes (e.g. C/Fortran)\n",
    "![Python logo](https://www.python.org/static/community_logos/python-logo-generic.svg)"
   ]
  },
  {
   "cell_type": "markdown",
   "metadata": {
    "slideshow": {
     "slide_type": "slide"
    }
   },
   "source": [
    "## Hello World"
   ]
  },
  {
   "cell_type": "code",
   "execution_count": null,
   "metadata": {
    "collapsed": false,
    "slideshow": {
     "slide_type": "fragment"
    }
   },
   "outputs": [],
   "source": [
    "print(\"Hello World!\")"
   ]
  },
  {
   "cell_type": "markdown",
   "metadata": {
    "slideshow": {
     "slide_type": "slide"
    }
   },
   "source": [
    "## How to get it\n",
    "\n",
    "- distribution packages (e.g. `python3`, `python3-numpy`, `python3-matplotlib`, `ipython`, …)\n",
    "- official Python package manager `pip` also works without root access\n",
    "- third-party package: [Anaconda](https://www.continuum.io/downloads) (Linux, OS X, Windows)\n",
    "- compile it yourself\n",
    "- …"
   ]
  },
  {
   "cell_type": "markdown",
   "metadata": {
    "slideshow": {
     "slide_type": "slide"
    }
   },
   "source": [
    "## Syntax by Examples"
   ]
  },
  {
   "cell_type": "code",
   "execution_count": null,
   "metadata": {
    "collapsed": false,
    "slideshow": {
     "slide_type": "subslide"
    }
   },
   "outputs": [],
   "source": [
    "a = 5\n",
    "b = 16\n",
    "if a > b:\n",
    "    # White space is significant.\n",
    "    # Indentation is used to signify code blocks.\n",
    "    c = \"Yes\"\n",
    "else:\n",
    "    c = \"No\"\n",
    "\n",
    "print(\"Is a greater than b?\", c)"
   ]
  },
  {
   "cell_type": "code",
   "execution_count": null,
   "metadata": {
    "collapsed": false,
    "slideshow": {
     "slide_type": "subslide"
    }
   },
   "outputs": [],
   "source": [
    "def iseven(x):\n",
    "    \"\"\"Returns True when x is even.\"\"\"\n",
    "    return x % 2 == 0\n",
    "\n",
    "for a in range(10):\n",
    "    if iseven(a):\n",
    "        print(a, \" is even.\")\n",
    "    else:\n",
    "        print(a, \" is odd.\")"
   ]
  },
  {
   "cell_type": "markdown",
   "metadata": {
    "slideshow": {
     "slide_type": "subslide"
    }
   },
   "source": [
    "# Mathematical Types and Operations"
   ]
  },
  {
   "cell_type": "code",
   "execution_count": null,
   "metadata": {
    "collapsed": false
   },
   "outputs": [],
   "source": [
    "# integers\n",
    "i = 15\n",
    "j = 7\n",
    "k = 0xff # same as 255\n",
    "# floating-point numbers\n",
    "a = 1.0 / sqrt(2.0)\n",
    "b = 1e20\n",
    "# complex numbers\n",
    "c = a + 1j * a"
   ]
  },
  {
   "cell_type": "code",
   "execution_count": null,
   "metadata": {
    "collapsed": false,
    "slideshow": {
     "slide_type": "fragment"
    }
   },
   "outputs": [],
   "source": [
    "# division of integers always results in floats (was different in Python 2)\n",
    "i / j"
   ]
  },
  {
   "cell_type": "code",
   "execution_count": null,
   "metadata": {
    "collapsed": false,
    "slideshow": {
     "slide_type": "fragment"
    }
   },
   "outputs": [],
   "source": [
    "# explicit integer division\n",
    "i // j"
   ]
  },
  {
   "cell_type": "code",
   "execution_count": null,
   "metadata": {
    "collapsed": false,
    "slideshow": {
     "slide_type": "fragment"
    }
   },
   "outputs": [],
   "source": [
    "# ** is the power operator\n",
    "c**2"
   ]
  },
  {
   "cell_type": "markdown",
   "metadata": {
    "slideshow": {
     "slide_type": "subslide"
    }
   },
   "source": [
    "### Some Data Structures"
   ]
  },
  {
   "cell_type": "code",
   "execution_count": null,
   "metadata": {
    "collapsed": true
   },
   "outputs": [],
   "source": [
    "# Lists can store objects of different types. Index starts at 0.\n",
    "things = [42, \"a string\", [\"another\", \"list\"]]"
   ]
  },
  {
   "cell_type": "code",
   "execution_count": null,
   "metadata": {
    "collapsed": false
   },
   "outputs": [],
   "source": [
    "things[2][1]"
   ]
  },
  {
   "cell_type": "code",
   "execution_count": null,
   "metadata": {
    "collapsed": false,
    "slideshow": {
     "slide_type": "fragment"
    }
   },
   "outputs": [],
   "source": [
    "# Sets are like lists but without ordering.\n",
    "birds = {'seagull', 'crane', 'crow'}\n",
    "machines = {'car', 'computer', 'crane'}"
   ]
  },
  {
   "cell_type": "code",
   "execution_count": null,
   "metadata": {
    "collapsed": false
   },
   "outputs": [],
   "source": [
    "birds"
   ]
  },
  {
   "cell_type": "code",
   "execution_count": null,
   "metadata": {
    "collapsed": false
   },
   "outputs": [],
   "source": [
    "birds.intersection(machines)"
   ]
  },
  {
   "cell_type": "code",
   "execution_count": null,
   "metadata": {
    "collapsed": true,
    "slideshow": {
     "slide_type": "subslide"
    }
   },
   "outputs": [],
   "source": [
    "# Dictionaries store key-value pairs\n",
    "sirius_a = dict(magnitude=1.42, parallax=379.21)\n",
    "sirius_a['mass'] = 2.02 * 1.9891e+33"
   ]
  },
  {
   "cell_type": "code",
   "execution_count": null,
   "metadata": {
    "collapsed": false
   },
   "outputs": [],
   "source": [
    "for k, v in sirius_a.items():\n",
    "    # Loops can directly iterate of key-value pairs\n",
    "    print(\"%s is %0.5e.\" % (k.capitalize(), v))\n",
    "    # printf-style string formatting is supported."
   ]
  },
  {
   "cell_type": "markdown",
   "metadata": {
    "slideshow": {
     "slide_type": "slide"
    }
   },
   "source": [
    "## Numerics with Python"
   ]
  },
  {
   "cell_type": "code",
   "execution_count": null,
   "metadata": {
    "collapsed": false
   },
   "outputs": [],
   "source": [
    "def simpledot(x, y):\n",
    "    \"\"\"Computes the dot product of x and y.\"\"\"\n",
    "    d = 0.0\n",
    "    for i in range(len(x)):\n",
    "        d += x[i] * y[i]\n",
    "    return d\n",
    "\n",
    "a = list(range(5000,10000))\n",
    "b = list(range(-50,4950))\n",
    "%timeit simpledot(a, b)"
   ]
  },
  {
   "cell_type": "markdown",
   "metadata": {
    "slideshow": {
     "slide_type": "fragment"
    }
   },
   "source": [
    "Straightforward usage of lists is extremely inefficient due to type-checking and storage overhead.\n",
    "Remember lists support a mixture of types."
   ]
  },
  {
   "cell_type": "markdown",
   "metadata": {
    "slideshow": {
     "slide_type": "subslide"
    }
   },
   "source": [
    "## Numpy\n",
    "\n",
    "A Python package featuring a multidimensional array object (`ndarray`). Operations on these objects are implemented using C."
   ]
  },
  {
   "cell_type": "code",
   "execution_count": null,
   "metadata": {
    "collapsed": false
   },
   "outputs": [],
   "source": [
    "import numpy as np\n",
    "a = np.array(range(5000,10000)) # or simply np.arange(5000,10000)\n",
    "b = np.array(range(5000,10000))\n",
    "np.dot(a,b)\n",
    "%timeit np.dot(a,b)"
   ]
  },
  {
   "cell_type": "code",
   "execution_count": null,
   "metadata": {
    "collapsed": false,
    "slideshow": {
     "slide_type": "subslide"
    }
   },
   "outputs": [],
   "source": [
    "A = np.array([[1,2,3],[0,5,20],[21,22,23]])\n",
    "A"
   ]
  },
  {
   "cell_type": "code",
   "execution_count": null,
   "metadata": {
    "collapsed": false
   },
   "outputs": [],
   "source": [
    "# selecting array slices\n",
    "A[:,1]"
   ]
  },
  {
   "cell_type": "code",
   "execution_count": null,
   "metadata": {
    "collapsed": false
   },
   "outputs": [],
   "source": [
    "# array operations always act element-wise\n",
    "print(A * A)\n",
    "print(2 * A + 1)"
   ]
  },
  {
   "cell_type": "code",
   "execution_count": null,
   "metadata": {
    "collapsed": false,
    "slideshow": {
     "slide_type": "subslide"
    }
   },
   "outputs": [],
   "source": [
    "# linear algebra operations\n",
    "Ai = np.linalg.inv(A)\n",
    "# Converting to the matrix type redefines the product\n",
    "# to the matrix product.\n",
    "np.matrix(Ai) * np.matrix(A)"
   ]
  },
  {
   "cell_type": "markdown",
   "metadata": {
    "slideshow": {
     "slide_type": "slide"
    }
   },
   "source": [
    "## Plotting\n",
    "\n",
    "`matplotlib` offers a wide range of plotting functions. Labels can be rendered using $\\mathrm{\\LaTeX}$.\n",
    "It can display the plots in a window, in a brower-based Notebook, or save it in a variety of formats (PDF, PNG, …)."
   ]
  },
  {
   "cell_type": "code",
   "execution_count": null,
   "metadata": {
    "collapsed": false,
    "slideshow": {
     "slide_type": "subslide"
    }
   },
   "outputs": [],
   "source": [
    "import matplotlib.pyplot as plt\n",
    "\n",
    "x = np.linspace(0, 2 * np.pi, 1000)\n",
    "plt.plot(x, np.sin(x) * np.cos(10 * x))"
   ]
  },
  {
   "cell_type": "code",
   "execution_count": null,
   "metadata": {
    "collapsed": false,
    "slideshow": {
     "slide_type": "subslide"
    }
   },
   "outputs": [],
   "source": [
    "# When running in pylab mode, a default selection of functions is imported.\n",
    "x = linspace(-5, 5, 1000)\n",
    "plot(x, x**2, color='red', label=\"$x^2$\") # Labels are used for creating a legend.\n",
    "plot(x, x**4, color='blue', label=\"$x^4$\")\n",
    "ylim(-1,10)\n",
    "legend(loc='best')\n",
    "xlabel('$x$')\n",
    "ylabel('$y$')\n",
    "annotate('minimum',(0,0), xytext=(0,2), horizontalalignment='center',\n",
    "         arrowprops=dict(arrowstyle='->'))"
   ]
  },
  {
   "cell_type": "markdown",
   "metadata": {
    "collapsed": true,
    "slideshow": {
     "slide_type": "subslide"
    }
   },
   "source": [
    "### Plots of 2D Data"
   ]
  },
  {
   "cell_type": "code",
   "execution_count": null,
   "metadata": {
    "collapsed": false
   },
   "outputs": [],
   "source": [
    "X, Y = meshgrid(linspace(-10,10,200),linspace(-10,10,200))\n",
    "X0, Y0 = 1., -0.5\n",
    "W = 2.\n",
    "data = exp(-((X-X0)**2 + (Y-Y0)**2)/W**2)\n",
    "pcolormesh(X,Y,data,rasterized=True, cmap='viridis')\n",
    "axis('equal')\n",
    "colorbar()"
   ]
  },
  {
   "cell_type": "markdown",
   "metadata": {
    "slideshow": {
     "slide_type": "subslide"
    }
   },
   "source": [
    "### 3D Surface Plots\n",
    "`matplotlib` has rudimentary support for 3D plots. More advanced functions are availabe in packages like `mayavi` and `yt`."
   ]
  },
  {
   "cell_type": "code",
   "execution_count": null,
   "metadata": {
    "collapsed": false,
    "slideshow": {
     "slide_type": "-"
    }
   },
   "outputs": [],
   "source": [
    "import mpl_toolkits.mplot3d\n",
    "ax = subplot(111, projection='3d')\n",
    "ax.plot_surface(X, Y, X**2 * Y**2, cmap='inferno')"
   ]
  },
  {
   "cell_type": "code",
   "execution_count": null,
   "metadata": {
    "collapsed": false,
    "slideshow": {
     "slide_type": "subslide"
    }
   },
   "outputs": [],
   "source": [
    "kx, ky = meshgrid(rfftfreq(500), rfftfreq(500))\n",
    "k = sqrt(kx**2 + ky**2)\n",
    "D = k**(-5./3.) * exp(2j * pi * rand(*kx.shape))\n",
    "D[0,:] = 0\n",
    "D[:,0] = 0\n",
    "E=irfft2(D)\n",
    "pcolormesh(E, rasterized=True)\n",
    "colorbar()"
   ]
  },
  {
   "cell_type": "markdown",
   "metadata": {
    "slideshow": {
     "slide_type": "subslide"
    }
   },
   "source": [
    "### Animations\n",
    "\n",
    "Plots with changing parameters can be automatically rendered to a video file"
   ]
  },
  {
   "cell_type": "code",
   "execution_count": null,
   "metadata": {
    "collapsed": false
   },
   "outputs": [],
   "source": [
    "# example from http://matplotlib.org/examples/animation/simple_anim.html\n",
    "from matplotlib import rc, animation\n",
    "import matplotlib.animation as animation\n",
    "rc('animation', html='html5')\n",
    "\n",
    "fig, ax = plt.subplots()\n",
    "\n",
    "x = np.arange(0, 2*np.pi, 0.01)\n",
    "line, = ax.plot(x, np.sin(x))\n",
    "\n",
    "def animate(i):\n",
    "    line.set_ydata(np.sin(x + i/10.0))  # update the data\n",
    "    return line,\n",
    "\n",
    "ani = animation.FuncAnimation(fig, animate, np.arange(1, 200), interval=25)\n",
    "close(fig)\n",
    "ani"
   ]
  },
  {
   "cell_type": "markdown",
   "metadata": {
    "slideshow": {
     "slide_type": "slide"
    }
   },
   "source": [
    "## IPython/Jupyter\n",
    "\n",
    "- IPython is a convenient interactive shell for Python\n",
    "- renamed to Jupyter in 2014 as support for new languages (Ruby, R, Julia, …) was added\n",
    "- browser-based notebook interface to store description, code, and results in one file\n",
    "- notebooks can be exported to HTML, PDF, markdown, LaTeX, slides and shared with collaborators\n",
    "- compute kernel can run on different machine (even multiple kernels in batch queue)\n",
    "- Jupyterhub offers web-based remote access to notebooks and kernels (e.g. for homework assignments)"
   ]
  },
  {
   "cell_type": "markdown",
   "metadata": {
    "slideshow": {
     "slide_type": "subslide"
    }
   },
   "source": [
    "### Example Notebook"
   ]
  },
  {
   "cell_type": "markdown",
   "metadata": {
    "slideshow": {
     "slide_type": "fragment"
    }
   },
   "source": [
    "This presentation"
   ]
  },
  {
   "cell_type": "markdown",
   "metadata": {
    "slideshow": {
     "slide_type": "slide"
    }
   },
   "source": [
    "## Computer Algebra\n",
    "\n",
    "Symbolic manipulations can carried out using the `sympy` package."
   ]
  },
  {
   "cell_type": "code",
   "execution_count": null,
   "metadata": {
    "collapsed": false
   },
   "outputs": [],
   "source": [
    "from sympy import *\n",
    "init_printing()\n",
    "a, x = var('a, x')\n",
    "f = cos(a*x**2)\n",
    "f.diff(x)"
   ]
  },
  {
   "cell_type": "code",
   "execution_count": null,
   "metadata": {
    "collapsed": false,
    "slideshow": {
     "slide_type": "fragment"
    }
   },
   "outputs": [],
   "source": [
    "N(pi,1000)"
   ]
  },
  {
   "cell_type": "code",
   "execution_count": null,
   "metadata": {
    "collapsed": false,
    "slideshow": {
     "slide_type": "subslide"
    }
   },
   "outputs": [],
   "source": [
    "n = var('n')\n",
    "summation(1/2**n,(n,1,50))"
   ]
  },
  {
   "cell_type": "code",
   "execution_count": null,
   "metadata": {
    "collapsed": false,
    "slideshow": {
     "slide_type": "fragment"
    }
   },
   "outputs": [],
   "source": [
    "N(summation(1/2**n,(n,1,30)))"
   ]
  },
  {
   "cell_type": "code",
   "execution_count": null,
   "metadata": {
    "collapsed": false,
    "slideshow": {
     "slide_type": "fragment"
    }
   },
   "outputs": [],
   "source": [
    "summation(1/2**n,(n,1,inf))"
   ]
  },
  {
   "cell_type": "code",
   "execution_count": null,
   "metadata": {
    "collapsed": false,
    "slideshow": {
     "slide_type": "subslide"
    }
   },
   "outputs": [],
   "source": [
    "integrate(exp(-x**2))"
   ]
  },
  {
   "cell_type": "code",
   "execution_count": null,
   "metadata": {
    "collapsed": false,
    "slideshow": {
     "slide_type": "fragment"
    }
   },
   "outputs": [],
   "source": [
    "integrate(exp(-x**2),(x,-inf,inf))"
   ]
  }
 ],
 "metadata": {
  "celltoolbar": "Slideshow",
  "kernelspec": {
   "display_name": "Python 3",
   "language": "python",
   "name": "python3"
  },
  "language_info": {
   "codemirror_mode": {
    "name": "ipython",
    "version": 3
   },
   "file_extension": ".py",
   "mimetype": "text/x-python",
   "name": "python",
   "nbconvert_exporter": "python",
   "pygments_lexer": "ipython3",
   "version": "3.5.3"
  }
 },
 "nbformat": 4,
 "nbformat_minor": 0
}
